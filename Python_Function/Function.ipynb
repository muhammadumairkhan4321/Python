{
 "cells": [
  {
   "cell_type": "markdown",
   "id": "c750b0bd",
   "metadata": {},
   "source": [
    "## **Defining a Function**"
   ]
  },
  {
   "cell_type": "markdown",
   "id": "99884cfc",
   "metadata": {},
   "source": [
    "### Basic syntax"
   ]
  },
  {
   "cell_type": "code",
   "execution_count": 1,
   "id": "83154d2c",
   "metadata": {},
   "outputs": [],
   "source": [
    "def function_name(parameters):\n",
    "    \"Docstring (optional)\"\n",
    "    return result"
   ]
  },
  {
   "cell_type": "markdown",
   "id": "5e1b6bcc",
   "metadata": {},
   "source": [
    "### Simple Function"
   ]
  },
  {
   "cell_type": "code",
   "execution_count": 2,
   "id": "4f934f51",
   "metadata": {},
   "outputs": [
    {
     "name": "stdout",
     "output_type": "stream",
     "text": [
      "Hello,World !\n"
     ]
    }
   ],
   "source": [
    "def greet():\n",
    "    print(\"Hello,World !\")\n",
    "greet()    \n"
   ]
  },
  {
   "cell_type": "markdown",
   "id": "07ae62dc",
   "metadata": {},
   "source": [
    "## **2. Function Parameters**"
   ]
  },
  {
   "cell_type": "markdown",
   "id": "be90a09d",
   "metadata": {},
   "source": [
    "### a) Positional Arguments(Required)"
   ]
  },
  {
   "cell_type": "code",
   "execution_count": 5,
   "id": "16154e4d",
   "metadata": {},
   "outputs": [
    {
     "name": "stdout",
     "output_type": "stream",
     "text": [
      "8\n"
     ]
    }
   ],
   "source": [
    "def add(a, b):\n",
    "    return a + b\n",
    "\n",
    "print(add(3, 5))  # Output: 8"
   ]
  },
  {
   "cell_type": "markdown",
   "id": "bcc0c280",
   "metadata": {},
   "source": [
    "### b) Default Arguments(Optional)"
   ]
  },
  {
   "cell_type": "code",
   "execution_count": 14,
   "id": "12880981",
   "metadata": {},
   "outputs": [
    {
     "name": "stdout",
     "output_type": "stream",
     "text": [
      "9\n",
      "27\n"
     ]
    }
   ],
   "source": [
    "def power(num, exponent=2):\n",
    "    return num ** exponent\n",
    "\n",
    "print(power(3))     # Output: 9 (uses default exponent=2)\n",
    "print(power(3, 3))  # Output: 27"
   ]
  },
  {
   "cell_type": "markdown",
   "id": "51845ab1",
   "metadata": {},
   "source": [
    "## c) Keyword Arguments (Named)"
   ]
  },
  {
   "cell_type": "code",
   "execution_count": 1,
   "id": "798e69ba",
   "metadata": {},
   "outputs": [
    {
     "name": "stdout",
     "output_type": "stream",
     "text": [
      "Umair is 17 years old.\n"
     ]
    }
   ],
   "source": [
    "def introduce(name,age):\n",
    "    print(f\"{name} is {age} years old.\")\n",
    "introduce(age=17,name=\"Umair\")   "
   ]
  },
  {
   "cell_type": "markdown",
   "id": "781a73f2",
   "metadata": {},
   "source": [
    "## d) Arbitrary Arguments (*args and **kwargs)"
   ]
  },
  {
   "cell_type": "markdown",
   "id": "7185e47a",
   "metadata": {},
   "source": [
    "***args** → Accepts any number of positional arguments (stored as a tuple).\n",
    "\n",
    "****kwargs** → Accepts any number of keyword arguments (stored as a dictionary)."
   ]
  },
  {
   "cell_type": "code",
   "execution_count": 2,
   "id": "6f8956b5",
   "metadata": {},
   "outputs": [
    {
     "name": "stdout",
     "output_type": "stream",
     "text": [
      "Positional args : (1, 2, 3)\n",
      "keyword args : {'name': 'Umair', 'age': 17}\n"
     ]
    }
   ],
   "source": [
    "def print_args(*args,**kwargs):\n",
    "    print(\"Positional args :\",args)\n",
    "    print(\"keyword args :\",kwargs)\n",
    "\n",
    "print_args(1,2,3, name=\"Umair\",age=17)"
   ]
  },
  {
   "cell_type": "markdown",
   "id": "bb29f27d",
   "metadata": {},
   "source": [
    "# **3. Return Statement**"
   ]
  },
  {
   "cell_type": "markdown",
   "id": "67a61838",
   "metadata": {},
   "source": [
    "A function can return a value (or None if no return is specified).\n",
    "\n",
    "Multiple values can be returned as a tuple."
   ]
  },
  {
   "cell_type": "code",
   "execution_count": 3,
   "id": "78c6e274",
   "metadata": {},
   "outputs": [
    {
     "name": "stdout",
     "output_type": "stream",
     "text": [
      "9 27\n"
     ]
    }
   ],
   "source": [
    "def square_and_cube(n):\n",
    "    return n**2, n**3\n",
    "sq, cube = square_and_cube(3)\n",
    "print(sq, cube)    "
   ]
  },
  {
   "cell_type": "markdown",
   "id": "0029f895",
   "metadata": {},
   "source": [
    "## **4. Variable Scope**"
   ]
  },
  {
   "cell_type": "markdown",
   "id": "96aca6ee",
   "metadata": {},
   "source": [
    "**Local variables** → Inside a function (not accessible outside).\n",
    "\n",
    "**Global variables** → Defined outside functions (accessible everywhere)."
   ]
  },
  {
   "cell_type": "code",
   "execution_count": 5,
   "id": "74fc3b67",
   "metadata": {},
   "outputs": [
    {
     "name": "stdout",
     "output_type": "stream",
     "text": [
      "15\n"
     ]
    }
   ],
   "source": [
    "x = 10  # Global variable\n",
    "\n",
    "def test():\n",
    "    y = 5  # Local variable\n",
    "    print(x + y)  # Can access global 'x'\n",
    "\n",
    "test()      # Output: 15\n"
   ]
  },
  {
   "cell_type": "code",
   "execution_count": 6,
   "id": "fd1d2626",
   "metadata": {},
   "outputs": [
    {
     "name": "stdout",
     "output_type": "stream",
     "text": [
      "15\n"
     ]
    },
    {
     "ename": "NameError",
     "evalue": "name 'y' is not defined",
     "output_type": "error",
     "traceback": [
      "\u001b[31m---------------------------------------------------------------------------\u001b[39m",
      "\u001b[31mNameError\u001b[39m                                 Traceback (most recent call last)",
      "\u001b[36mCell\u001b[39m\u001b[36m \u001b[39m\u001b[32mIn[6]\u001b[39m\u001b[32m, line 8\u001b[39m\n\u001b[32m      5\u001b[39m     \u001b[38;5;28mprint\u001b[39m(x + y)  \u001b[38;5;66;03m# Can access global 'x'\u001b[39;00m\n\u001b[32m      7\u001b[39m test()      \u001b[38;5;66;03m# Output: 15\u001b[39;00m\n\u001b[32m----> \u001b[39m\u001b[32m8\u001b[39m \u001b[38;5;28mprint\u001b[39m(\u001b[43my\u001b[49m)    \u001b[38;5;66;03m# Error! 'y' is local to test()\u001b[39;00m\n",
      "\u001b[31mNameError\u001b[39m: name 'y' is not defined"
     ]
    }
   ],
   "source": [
    "x = 10  # Global variable\n",
    "\n",
    "def test():\n",
    "    y = 5  # Local variable\n",
    "    print(x + y)  # Can access global 'x'\n",
    "\n",
    "test()      # Output: 15\n",
    "print(y)    # Error! 'y' is local to test()"
   ]
  },
  {
   "cell_type": "markdown",
   "id": "a5cc618c",
   "metadata": {},
   "source": [
    "### **Modifying Global Variables Inside a Function**"
   ]
  },
  {
   "cell_type": "code",
   "execution_count": 7,
   "id": "9e5655ab",
   "metadata": {},
   "outputs": [
    {
     "name": "stdout",
     "output_type": "stream",
     "text": [
      "20\n"
     ]
    }
   ],
   "source": [
    "x = 10\n",
    "def change_x():\n",
    "    global x\n",
    "    x =20\n",
    "change_x()\n",
    "print(x)    # Output 20"
   ]
  },
  {
   "cell_type": "markdown",
   "id": "ca5bed89",
   "metadata": {},
   "source": [
    "## **5. Lambda Functions (Anonymous Functions)**"
   ]
  },
  {
   "cell_type": "markdown",
   "id": "85b3b1a8",
   "metadata": {},
   "source": [
    "Short, one-line functions without a name.\n",
    "\n",
    "Syntax: lambda arguments: expression \n"
   ]
  },
  {
   "cell_type": "code",
   "execution_count": 9,
   "id": "e43c0790",
   "metadata": {},
   "outputs": [
    {
     "name": "stdout",
     "output_type": "stream",
     "text": [
      "36\n"
     ]
    }
   ],
   "source": [
    "square =lambda x: x * x\n",
    "print(square(6))"
   ]
  },
  {
   "cell_type": "code",
   "execution_count": 10,
   "id": "f3482dbc",
   "metadata": {},
   "outputs": [
    {
     "name": "stdout",
     "output_type": "stream",
     "text": [
      "[1, 4, 9, 16]\n"
     ]
    }
   ],
   "source": [
    "# Using lambda with built-in functions\n",
    "numbers = [1, 2, 3, 4]\n",
    "squared = list(map(lambda x: x ** 2, numbers))\n",
    "print(squared)  # Output: [1, 4, 9, 16]"
   ]
  },
  {
   "cell_type": "markdown",
   "id": "94e058e5",
   "metadata": {},
   "source": [
    "## **6. Recursion (Function Calling Itself)**"
   ]
  },
  {
   "cell_type": "markdown",
   "id": "d35f8783",
   "metadata": {},
   "source": [
    "A function can call itself (useful for problems like factorials, Fibonacci series)."
   ]
  },
  {
   "cell_type": "code",
   "execution_count": 14,
   "id": "2803f874",
   "metadata": {},
   "outputs": [
    {
     "name": "stdout",
     "output_type": "stream",
     "text": [
      "120\n"
     ]
    }
   ],
   "source": [
    "def factorical(n):\n",
    "    if n ==1:\n",
    "        return 1\n",
    "    else:\n",
    "        return n * factorical(n -1)  \n",
    "\n",
    "print(factorical(5))  #Output: 120 (5! = 5*4*3*2*1)    "
   ]
  },
  {
   "cell_type": "code",
   "execution_count": null,
   "id": "c4228af3",
   "metadata": {},
   "outputs": [],
   "source": []
  }
 ],
 "metadata": {
  "kernelspec": {
   "display_name": "Python 3",
   "language": "python",
   "name": "python3"
  },
  "language_info": {
   "codemirror_mode": {
    "name": "ipython",
    "version": 3
   },
   "file_extension": ".py",
   "mimetype": "text/x-python",
   "name": "python",
   "nbconvert_exporter": "python",
   "pygments_lexer": "ipython3",
   "version": "3.13.5"
  }
 },
 "nbformat": 4,
 "nbformat_minor": 5
}
