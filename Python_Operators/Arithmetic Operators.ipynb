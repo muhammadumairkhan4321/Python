{
 "cells": [
  {
   "cell_type": "markdown",
   "id": "2f253c6b",
   "metadata": {},
   "source": [
    "## **Arithmetic Operators**"
   ]
  },
  {
   "cell_type": "markdown",
   "id": "2a243f55",
   "metadata": {},
   "source": [
    "- +,- ,* ,/ ,% ,** ,//"
   ]
  },
  {
   "cell_type": "code",
   "execution_count": 2,
   "id": "5355478c",
   "metadata": {},
   "outputs": [
    {
     "name": "stdout",
     "output_type": "stream",
     "text": [
      "39\n"
     ]
    }
   ],
   "source": [
    "# Addition\n",
    "a =18\n",
    "b =21\n",
    "print( a + b )   # Output :39"
   ]
  },
  {
   "cell_type": "code",
   "execution_count": 3,
   "id": "91a812d2",
   "metadata": {},
   "outputs": [
    {
     "name": "stdout",
     "output_type": "stream",
     "text": [
      "-3\n"
     ]
    }
   ],
   "source": [
    "# Subtraction \n",
    "print( a - b ) # Output : -3"
   ]
  },
  {
   "cell_type": "code",
   "execution_count": 5,
   "id": "4aed4f00",
   "metadata": {},
   "outputs": [
    {
     "name": "stdout",
     "output_type": "stream",
     "text": [
      "378\n"
     ]
    }
   ],
   "source": [
    "# Multiplication\n",
    "print( a * b )    # Output : 378\n"
   ]
  },
  {
   "cell_type": "code",
   "execution_count": 7,
   "id": "3943c90d",
   "metadata": {},
   "outputs": [
    {
     "name": "stdout",
     "output_type": "stream",
     "text": [
      "0.8571428571428571\n"
     ]
    }
   ],
   "source": [
    "# Divition \n",
    "print( a / b )  # Output : 0.8571428571428571"
   ]
  },
  {
   "cell_type": "code",
   "execution_count": 10,
   "id": "6a6b70ba",
   "metadata": {},
   "outputs": [
    {
     "name": "stdout",
     "output_type": "stream",
     "text": [
      "1\n"
     ]
    }
   ],
   "source": [
    "a =10\n",
    "b =3\n",
    "print( a % b ) # (Modulus - Remainder)"
   ]
  },
  {
   "cell_type": "code",
   "execution_count": 13,
   "id": "c0cb4358",
   "metadata": {},
   "outputs": [
    {
     "name": "stdout",
     "output_type": "stream",
     "text": [
      "1000\n",
      "1000\n"
     ]
    }
   ],
   "source": [
    "print(a**b) # Exponentiation\n",
    "print(10 ** 3)  # Like : 10*10*10"
   ]
  },
  {
   "cell_type": "code",
   "execution_count": 15,
   "id": "9afdaba8",
   "metadata": {},
   "outputs": [
    {
     "name": "stdout",
     "output_type": "stream",
     "text": [
      "2\n"
     ]
    }
   ],
   "source": [
    "a  =2 \n",
    "b  =1\n",
    "print(a//b) # 3 (floor division)"
   ]
  },
  {
   "cell_type": "code",
   "execution_count": null,
   "id": "5f2701c2",
   "metadata": {},
   "outputs": [],
   "source": []
  }
 ],
 "metadata": {
  "kernelspec": {
   "display_name": "base",
   "language": "python",
   "name": "python3"
  },
  "language_info": {
   "codemirror_mode": {
    "name": "ipython",
    "version": 3
   },
   "file_extension": ".py",
   "mimetype": "text/x-python",
   "name": "python",
   "nbconvert_exporter": "python",
   "pygments_lexer": "ipython3",
   "version": "3.13.5"
  }
 },
 "nbformat": 4,
 "nbformat_minor": 5
}
