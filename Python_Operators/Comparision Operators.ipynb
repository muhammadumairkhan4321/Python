{
 "cells": [
  {
   "cell_type": "markdown",
   "id": "dcc7a9b1",
   "metadata": {},
   "source": [
    "### **Comparision Operators**\n",
    "==,!=,>,<,>=,<="
   ]
  },
  {
   "cell_type": "code",
   "execution_count": 2,
   "id": "ae4af66f",
   "metadata": {},
   "outputs": [],
   "source": [
    "a = 10 \n",
    "b = 3\n"
   ]
  },
  {
   "cell_type": "code",
   "execution_count": 4,
   "id": "d2afec60",
   "metadata": {},
   "outputs": [
    {
     "name": "stdout",
     "output_type": "stream",
     "text": [
      "False\n"
     ]
    }
   ],
   "source": [
    "print(a==b) # False"
   ]
  },
  {
   "cell_type": "code",
   "execution_count": 6,
   "id": "1d13ad35",
   "metadata": {},
   "outputs": [
    {
     "name": "stdout",
     "output_type": "stream",
     "text": [
      "True\n"
     ]
    }
   ],
   "source": [
    "print(a != b) # True"
   ]
  },
  {
   "cell_type": "code",
   "execution_count": 8,
   "id": "d5cd9668",
   "metadata": {},
   "outputs": [
    {
     "name": "stdout",
     "output_type": "stream",
     "text": [
      "True\n"
     ]
    }
   ],
   "source": [
    "print(a > b) # True"
   ]
  },
  {
   "cell_type": "code",
   "execution_count": 9,
   "id": "8ec11778",
   "metadata": {},
   "outputs": [
    {
     "name": "stdout",
     "output_type": "stream",
     "text": [
      "False\n"
     ]
    }
   ],
   "source": [
    "print(a < b) # False"
   ]
  },
  {
   "cell_type": "code",
   "execution_count": 10,
   "id": "ee5c005c",
   "metadata": {},
   "outputs": [
    {
     "name": "stdout",
     "output_type": "stream",
     "text": [
      "True\n"
     ]
    }
   ],
   "source": [
    "print(a >= b) # True"
   ]
  },
  {
   "cell_type": "code",
   "execution_count": 11,
   "id": "5ea71d9b",
   "metadata": {},
   "outputs": [
    {
     "name": "stdout",
     "output_type": "stream",
     "text": [
      "False\n"
     ]
    }
   ],
   "source": [
    "print(a <= b) # False"
   ]
  },
  {
   "cell_type": "code",
   "execution_count": null,
   "id": "de94d91f",
   "metadata": {},
   "outputs": [],
   "source": []
  }
 ],
 "metadata": {
  "kernelspec": {
   "display_name": "Python 3",
   "language": "python",
   "name": "python3"
  },
  "language_info": {
   "codemirror_mode": {
    "name": "ipython",
    "version": 3
   },
   "file_extension": ".py",
   "mimetype": "text/x-python",
   "name": "python",
   "nbconvert_exporter": "python",
   "pygments_lexer": "ipython3",
   "version": "3.13.5"
  }
 },
 "nbformat": 4,
 "nbformat_minor": 5
}
