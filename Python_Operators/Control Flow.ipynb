{
 "cells": [
  {
   "cell_type": "markdown",
   "id": "5be4cdd3",
   "metadata": {},
   "source": [
    "### **Control Flow**\n",
    "* a. if"
   ]
  },
  {
   "cell_type": "code",
   "execution_count": 1,
   "id": "a289dd05",
   "metadata": {},
   "outputs": [
    {
     "name": "stdout",
     "output_type": "stream",
     "text": [
      "Positive\n"
     ]
    }
   ],
   "source": [
    "num = 10 \n",
    "if num > 0:\n",
    "    print(\"Positive\")"
   ]
  },
  {
   "cell_type": "markdown",
   "id": "b0798220",
   "metadata": {},
   "source": [
    "* b. if-else"
   ]
  },
  {
   "cell_type": "code",
   "execution_count": 2,
   "id": "7d689171",
   "metadata": {},
   "outputs": [
    {
     "name": "stdout",
     "output_type": "stream",
     "text": [
      "Zero\n"
     ]
    }
   ],
   "source": [
    "num = 0\n",
    "if num > 0:\n",
    "    print(\"Positive\")\n",
    "else:\n",
    "    print(\"Zero\")    "
   ]
  },
  {
   "cell_type": "code",
   "execution_count": 4,
   "id": "96c3d28a",
   "metadata": {},
   "outputs": [
    {
     "name": "stdout",
     "output_type": "stream",
     "text": [
      "Negative\n"
     ]
    }
   ],
   "source": [
    "num = -25\n",
    "if num > 0:\n",
    "    print(\"Positive\")\n",
    "elif num < 0:\n",
    "    print(\"Negative\")\n",
    "else:\n",
    "    print(\"Zero\")        "
   ]
  },
  {
   "cell_type": "code",
   "execution_count": null,
   "id": "467bcff0",
   "metadata": {},
   "outputs": [],
   "source": []
  }
 ],
 "metadata": {
  "kernelspec": {
   "display_name": "Python 3",
   "language": "python",
   "name": "python3"
  },
  "language_info": {
   "codemirror_mode": {
    "name": "ipython",
    "version": 3
   },
   "file_extension": ".py",
   "mimetype": "text/x-python",
   "name": "python",
   "nbconvert_exporter": "python",
   "pygments_lexer": "ipython3",
   "version": "3.13.5"
  }
 },
 "nbformat": 4,
 "nbformat_minor": 5
}
