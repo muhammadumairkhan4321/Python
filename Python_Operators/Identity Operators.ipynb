{
 "cells": [
  {
   "cell_type": "markdown",
   "id": "c7f861ce",
   "metadata": {},
   "source": [
    "### **Identity Operators**"
   ]
  },
  {
   "cell_type": "code",
   "execution_count": 1,
   "id": "ff9c5ef6",
   "metadata": {},
   "outputs": [],
   "source": [
    "list1 = [1,2,3]\n",
    "list2 =[1,2,3]\n"
   ]
  },
  {
   "cell_type": "code",
   "execution_count": 4,
   "id": "70fe7b7f",
   "metadata": {},
   "outputs": [
    {
     "name": "stdout",
     "output_type": "stream",
     "text": [
      "False\n"
     ]
    }
   ],
   "source": [
    "print(list1 is list2)  # False (diffrent objects)\n"
   ]
  },
  {
   "cell_type": "code",
   "execution_count": 6,
   "id": "cd7ef984",
   "metadata": {},
   "outputs": [
    {
     "name": "stdout",
     "output_type": "stream",
     "text": [
      "True\n"
     ]
    }
   ],
   "source": [
    "print(list1 == list2) # True (same value)"
   ]
  },
  {
   "cell_type": "code",
   "execution_count": null,
   "id": "489a6809",
   "metadata": {},
   "outputs": [],
   "source": []
  }
 ],
 "metadata": {
  "kernelspec": {
   "display_name": "Python 3",
   "language": "python",
   "name": "python3"
  },
  "language_info": {
   "codemirror_mode": {
    "name": "ipython",
    "version": 3
   },
   "file_extension": ".py",
   "mimetype": "text/x-python",
   "name": "python",
   "nbconvert_exporter": "python",
   "pygments_lexer": "ipython3",
   "version": "3.13.5"
  }
 },
 "nbformat": 4,
 "nbformat_minor": 5
}
