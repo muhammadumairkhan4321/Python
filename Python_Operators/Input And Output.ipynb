{
 "cells": [
  {
   "cell_type": "markdown",
   "id": "93775bb4",
   "metadata": {},
   "source": [
    "### **Input And Output**"
   ]
  },
  {
   "cell_type": "code",
   "execution_count": 4,
   "id": "0533a5f4",
   "metadata": {},
   "outputs": [],
   "source": [
    "# Taking user input\n",
    "name = input(\"Enter your Name : \")\n",
    "age =int(input(\"enter your age : \")) # convert into integer"
   ]
  },
  {
   "cell_type": "code",
   "execution_count": 5,
   "id": "8b0943ac",
   "metadata": {},
   "outputs": [
    {
     "name": "stdout",
     "output_type": "stream",
     "text": [
      "Hello, Muhammad Umair Khan ! You are 17 Years Old.\n"
     ]
    }
   ],
   "source": [
    "# printing Output\n",
    "print(\"Hello,\",name,\"! You are\",age,\"Years Old.\")"
   ]
  },
  {
   "cell_type": "code",
   "execution_count": 6,
   "id": "f2d3eaa8",
   "metadata": {},
   "outputs": [
    {
     "name": "stdout",
     "output_type": "stream",
     "text": [
      "Hello, Muhammad Umair Khan! you are 17 Years old.\n"
     ]
    }
   ],
   "source": [
    "# string Formatting\n",
    "print(f\"Hello, {name}! you are {age} Years old.\")"
   ]
  },
  {
   "cell_type": "code",
   "execution_count": 10,
   "id": "ea7ccef6",
   "metadata": {},
   "outputs": [
    {
     "name": "stdout",
     "output_type": "stream",
     "text": [
      "Hello, Muhammad Umair Khan! you are 17 Years old.\n"
     ]
    }
   ],
   "source": [
    "# Using Formate\n",
    "print(\"Hello, {}! you are {} Years old.\".format(name,age))"
   ]
  },
  {
   "cell_type": "code",
   "execution_count": null,
   "id": "5e9674ad",
   "metadata": {},
   "outputs": [],
   "source": []
  }
 ],
 "metadata": {
  "kernelspec": {
   "display_name": "Python 3",
   "language": "python",
   "name": "python3"
  },
  "language_info": {
   "codemirror_mode": {
    "name": "ipython",
    "version": 3
   },
   "file_extension": ".py",
   "mimetype": "text/x-python",
   "name": "python",
   "nbconvert_exporter": "python",
   "pygments_lexer": "ipython3",
   "version": "3.13.5"
  }
 },
 "nbformat": 4,
 "nbformat_minor": 5
}
