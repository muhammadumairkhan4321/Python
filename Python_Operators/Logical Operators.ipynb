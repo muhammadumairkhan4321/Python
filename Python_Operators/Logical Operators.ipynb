{
 "cells": [
  {
   "cell_type": "markdown",
   "id": "25cb144b",
   "metadata": {},
   "source": [
    "### **Logical Operators**\n",
    "and , or , not"
   ]
  },
  {
   "cell_type": "code",
   "execution_count": 2,
   "id": "88025e57",
   "metadata": {},
   "outputs": [],
   "source": [
    "x =True\n",
    "y =False"
   ]
  },
  {
   "cell_type": "code",
   "execution_count": 3,
   "id": "97afd797",
   "metadata": {},
   "outputs": [
    {
     "name": "stdout",
     "output_type": "stream",
     "text": [
      "False\n"
     ]
    }
   ],
   "source": [
    "print(x and y) # False"
   ]
  },
  {
   "cell_type": "code",
   "execution_count": 4,
   "id": "08b6d5ea",
   "metadata": {},
   "outputs": [
    {
     "name": "stdout",
     "output_type": "stream",
     "text": [
      "True\n"
     ]
    }
   ],
   "source": [
    "print(x or y) # True"
   ]
  },
  {
   "cell_type": "code",
   "execution_count": 5,
   "id": "85224a25",
   "metadata": {},
   "outputs": [
    {
     "name": "stdout",
     "output_type": "stream",
     "text": [
      "False\n"
     ]
    }
   ],
   "source": [
    "print(not x) # False"
   ]
  },
  {
   "cell_type": "code",
   "execution_count": null,
   "id": "8a0d89de",
   "metadata": {},
   "outputs": [],
   "source": []
  }
 ],
 "metadata": {
  "kernelspec": {
   "display_name": "Python 3",
   "language": "python",
   "name": "python3"
  },
  "language_info": {
   "codemirror_mode": {
    "name": "ipython",
    "version": 3
   },
   "file_extension": ".py",
   "mimetype": "text/x-python",
   "name": "python",
   "nbconvert_exporter": "python",
   "pygments_lexer": "ipython3",
   "version": "3.13.5"
  }
 },
 "nbformat": 4,
 "nbformat_minor": 5
}
