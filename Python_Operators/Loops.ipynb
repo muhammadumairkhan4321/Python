{
 "cells": [
  {
   "cell_type": "markdown",
   "id": "f3afc758",
   "metadata": {},
   "source": [
    "## **Loops**"
   ]
  },
  {
   "cell_type": "markdown",
   "id": "85f37041",
   "metadata": {},
   "source": [
    "### **for**"
   ]
  },
  {
   "cell_type": "code",
   "execution_count": null,
   "id": "e6f0f7a8",
   "metadata": {},
   "outputs": [
    {
     "name": "stdout",
     "output_type": "stream",
     "text": [
      "0\n",
      "1\n",
      "2\n",
      "3\n",
      "4\n"
     ]
    }
   ],
   "source": [
    "# For Loop\n",
    "for i in range(5):\n",
    "    print(i)"
   ]
  },
  {
   "cell_type": "code",
   "execution_count": null,
   "id": "f1527181",
   "metadata": {},
   "outputs": [
    {
     "name": "stdout",
     "output_type": "stream",
     "text": [
      "Apple \n",
      "Banana\n",
      "Cherry\n"
     ]
    }
   ],
   "source": [
    "Fruits  = [\"Apple \",\"Banana\",\"Cherry\"]\n",
    "for fruits in Fruits:\n",
    "    print(fruits)\n"
   ]
  },
  {
   "cell_type": "code",
   "execution_count": null,
   "id": "947d3153",
   "metadata": {},
   "outputs": [
    {
     "name": "stdout",
     "output_type": "stream",
     "text": [
      "2\n",
      "4\n",
      "6\n",
      "8\n",
      "10\n",
      "12\n",
      "14\n",
      "16\n",
      "18\n"
     ]
    }
   ],
   "source": [
    "for i in range(2,20,2):\n",
    "    print(i)"
   ]
  },
  {
   "cell_type": "code",
   "execution_count": null,
   "id": "fa34d330",
   "metadata": {},
   "outputs": [
    {
     "name": "stdout",
     "output_type": "stream",
     "text": [
      "p\n",
      "y\n",
      "t\n",
      "h\n",
      "o\n",
      "n\n"
     ]
    }
   ],
   "source": [
    "word =\"python\"\n",
    "for letter in word:\n",
    "    print(letter)"
   ]
  },
  {
   "cell_type": "code",
   "execution_count": null,
   "id": "12a1f2f0",
   "metadata": {},
   "outputs": [
    {
     "name": "stdout",
     "output_type": "stream",
     "text": [
      "Name  : Khan\n",
      "Roll no.  : 15\n",
      "Grade  : A\n"
     ]
    }
   ],
   "source": [
    "student= {\n",
    "    \"Name\" : \"Khan\",\n",
    "    \"Roll no.\" : 15,\n",
    "    \"Grade\" :\"A\",\n",
    "}\n",
    "for key in student:\n",
    "    print(key,\" :\",student[key])   "
   ]
  },
  {
   "cell_type": "markdown",
   "id": "cb63d696",
   "metadata": {},
   "source": [
    "## **While Loop**"
   ]
  },
  {
   "cell_type": "code",
   "execution_count": 11,
   "id": "c63ec148",
   "metadata": {},
   "outputs": [
    {
     "name": "stdout",
     "output_type": "stream",
     "text": [
      "You typed: \n",
      "You typed: 15454\n",
      "You typed: 2540\n",
      "You typed: 21445\n",
      "You typed: 245\n",
      "You typed: quiy\n"
     ]
    }
   ],
   "source": [
    "while True:\n",
    "    user_input = input(\"Type 'quit' to exit: \")\n",
    "    if user_input == \"quit\":\n",
    "        break\n",
    "    print(\"You typed:\", user_input)"
   ]
  },
  {
   "cell_type": "markdown",
   "id": "26104209",
   "metadata": {},
   "source": [
    "## **break**"
   ]
  },
  {
   "cell_type": "code",
   "execution_count": 13,
   "id": "06b530bb",
   "metadata": {},
   "outputs": [
    {
     "name": "stdout",
     "output_type": "stream",
     "text": [
      "0\n",
      "1\n",
      "2\n",
      "3\n",
      "4\n",
      "5\n"
     ]
    }
   ],
   "source": [
    "for i in range(10):\n",
    "    if i == 6:\n",
    "        break\n",
    "    print(i)   # stop at 5"
   ]
  },
  {
   "cell_type": "markdown",
   "id": "e8cc3c24",
   "metadata": {},
   "source": [
    "  ## **continue**"
   ]
  },
  {
   "cell_type": "code",
   "execution_count": 15,
   "id": "b01ac000",
   "metadata": {},
   "outputs": [
    {
     "name": "stdout",
     "output_type": "stream",
     "text": [
      "0\n",
      "1\n",
      "2\n",
      "4\n"
     ]
    }
   ],
   "source": [
    "for i in range(5):\n",
    "    if i ==3:\n",
    "        continue\n",
    "    print(i)    # skip 3"
   ]
  },
  {
   "cell_type": "markdown",
   "id": "dbf1425b",
   "metadata": {},
   "source": [
    "## **pass**"
   ]
  },
  {
   "cell_type": "code",
   "execution_count": 19,
   "id": "8930866c",
   "metadata": {},
   "outputs": [
    {
     "name": "stdout",
     "output_type": "stream",
     "text": [
      "0\n",
      "1\n",
      "2\n",
      "3\n",
      "4\n"
     ]
    }
   ],
   "source": [
    "for i in range(5):\n",
    "    if i < 3:\n",
    "        pass\n",
    "    print(i)"
   ]
  },
  {
   "cell_type": "code",
   "execution_count": 21,
   "id": "660ca60b",
   "metadata": {},
   "outputs": [
    {
     "name": "stdout",
     "output_type": "stream",
     "text": [
      "0\n",
      "1\n",
      "2\n",
      "3\n",
      "4\n",
      "5\n",
      "6\n"
     ]
    }
   ],
   "source": [
    "for i in range(7):\n",
    "    if i < 3:\n",
    "        pass\n",
    "    print(i)"
   ]
  },
  {
   "cell_type": "markdown",
   "id": "70efa558",
   "metadata": {},
   "source": [
    "## **Nested Loops**"
   ]
  },
  {
   "cell_type": "code",
   "execution_count": 22,
   "id": "99cd012a",
   "metadata": {},
   "outputs": [
    {
     "name": "stdout",
     "output_type": "stream",
     "text": [
      "i=0,j=0\n",
      "i=0,j=1\n",
      "i=1,j=0\n",
      "i=1,j=1\n",
      "i=2,j=0\n",
      "i=2,j=1\n"
     ]
    }
   ],
   "source": [
    "for i in range(3):\n",
    "    for j in range(2):\n",
    "        print(f\"i={i},j={j}\")"
   ]
  },
  {
   "cell_type": "code",
   "execution_count": null,
   "id": "f5f88712",
   "metadata": {},
   "outputs": [],
   "source": []
  }
 ],
 "metadata": {
  "kernelspec": {
   "display_name": "Python 3",
   "language": "python",
   "name": "python3"
  },
  "language_info": {
   "codemirror_mode": {
    "name": "ipython",
    "version": 3
   },
   "file_extension": ".py",
   "mimetype": "text/x-python",
   "name": "python",
   "nbconvert_exporter": "python",
   "pygments_lexer": "ipython3",
   "version": "3.13.5"
  }
 },
 "nbformat": 4,
 "nbformat_minor": 5
}
