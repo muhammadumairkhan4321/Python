{
 "cells": [
  {
   "cell_type": "markdown",
   "id": "c4302c2e",
   "metadata": {},
   "source": [
    "## **Sum of numbers in a List**"
   ]
  },
  {
   "cell_type": "code",
   "execution_count": 1,
   "id": "cebc1489",
   "metadata": {},
   "outputs": [
    {
     "name": "stdout",
     "output_type": "stream",
     "text": [
      "Sum : 15\n"
     ]
    }
   ],
   "source": [
    "numbers = [1,2,3,4,5]\n",
    "total = 0\n",
    "for num in numbers:\n",
    "    total += num\n",
    "print(\"Sum :\",total)    "
   ]
  },
  {
   "cell_type": "markdown",
   "id": "911a7027",
   "metadata": {},
   "source": [
    "## **Finding even numbers**"
   ]
  },
  {
   "cell_type": "code",
   "execution_count": 2,
   "id": "b6b8054f",
   "metadata": {},
   "outputs": [
    {
     "name": "stdout",
     "output_type": "stream",
     "text": [
      "0 is even\n",
      "2 is even\n",
      "4 is even\n",
      "6 is even\n",
      "8 is even\n"
     ]
    }
   ],
   "source": [
    "for i in range(10):\n",
    "    if i % 2 ==0:\n",
    "        print(i,\"is even\")"
   ]
  },
  {
   "cell_type": "markdown",
   "id": "5f0f350a",
   "metadata": {},
   "source": [
    "## **Multiplication Table**"
   ]
  },
  {
   "cell_type": "code",
   "execution_count": 4,
   "id": "dcf4a722",
   "metadata": {},
   "outputs": [
    {
     "name": "stdout",
     "output_type": "stream",
     "text": [
      "5 x 1 = 5 \n",
      "5 x 2 = 10 \n",
      "5 x 3 = 15 \n",
      "5 x 4 = 20 \n",
      "5 x 5 = 25 \n",
      "5 x 6 = 30 \n",
      "5 x 7 = 35 \n",
      "5 x 8 = 40 \n",
      "5 x 9 = 45 \n",
      "5 x 10 = 50 \n"
     ]
    }
   ],
   "source": [
    "n = 5\n",
    "for i in range(1,11):\n",
    "    print(f\"{n} x {i} = {n * i} \")"
   ]
  },
  {
   "cell_type": "code",
   "execution_count": null,
   "id": "200dc51e",
   "metadata": {},
   "outputs": [],
   "source": []
  }
 ],
 "metadata": {
  "kernelspec": {
   "display_name": "Python 3",
   "language": "python",
   "name": "python3"
  },
  "language_info": {
   "codemirror_mode": {
    "name": "ipython",
    "version": 3
   },
   "file_extension": ".py",
   "mimetype": "text/x-python",
   "name": "python",
   "nbconvert_exporter": "python",
   "pygments_lexer": "ipython3",
   "version": "3.13.5"
  }
 },
 "nbformat": 4,
 "nbformat_minor": 5
}
